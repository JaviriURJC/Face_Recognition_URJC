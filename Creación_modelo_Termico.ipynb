{
  "nbformat": 4,
  "nbformat_minor": 0,
  "metadata": {
    "colab": {
      "provenance": [],
      "authorship_tag": "ABX9TyNM9cJmrRTzHhs7QJsTu2wo",
      "include_colab_link": true
    },
    "kernelspec": {
      "name": "python3",
      "display_name": "Python 3"
    },
    "language_info": {
      "name": "python"
    }
  },
  "cells": [
    {
      "cell_type": "markdown",
      "metadata": {
        "id": "view-in-github",
        "colab_type": "text"
      },
      "source": [
        "<a href=\"https://colab.research.google.com/github/JaviriURJC/Face_Recognition_URJC/blob/main/Creaci%C3%B3n_modelo_Termico.ipynb\" target=\"_parent\"><img src=\"https://colab.research.google.com/assets/colab-badge.svg\" alt=\"Open In Colab\"/></a>"
      ]
    },
    {
      "cell_type": "markdown",
      "source": [
        "ENTORNO DE EJECUCIÓN EN GPU"
      ],
      "metadata": {
        "id": "MtTCUgOFIcom"
      }
    },
    {
      "cell_type": "code",
      "execution_count": null,
      "metadata": {
        "colab": {
          "base_uri": "https://localhost:8080/"
        },
        "id": "i79Doya_GwK2",
        "outputId": "853476bc-7e80-474c-d16e-6b0812840f40"
      },
      "outputs": [
        {
          "output_type": "stream",
          "name": "stdout",
          "text": [
            "Setup Completo. Usando torch 1.13.0+cu116 (CPU)\n"
          ]
        }
      ],
      "source": [
        "#clonar YOLOv5 \n",
        "!git clone https://github.com/ultralytics/yolov5 #clonar repo\n",
        "%cd yolov5\n",
        "%pip install -qr requirements.txt #instalar dependencias\n",
        "\n",
        "import torch\n",
        "from IPython.display import Image, clear_output #para eneseñar imagenes\n",
        "\n",
        "clear_output()\n",
        "print(f\"Setup Completo. Usando torch {torch.__version__} ({torch.cuda.get_device_properties(0).name if torch.cuda.is_available() else 'CPU'})\")"
      ]
    },
    {
      "cell_type": "markdown",
      "source": [
        "Cargar Dataset de roboflow"
      ],
      "metadata": {
        "id": "xWtqGInZG6tn"
      }
    },
    {
      "cell_type": "code",
      "source": [
        "from roboflow import Roboflow\n",
        "rf = Roboflow(model_format=\"yolov5\", notebook=\"ultralytics\")"
      ],
      "metadata": {
        "id": "lJ2Sh-liG8x2"
      },
      "execution_count": null,
      "outputs": []
    },
    {
      "cell_type": "code",
      "source": [
        "# set up environment\n",
        "os.environ[\"DATASET_DIRECTORY\"] = \"/content/datasets\""
      ],
      "metadata": {
        "id": "krw5Qq6PNERN"
      },
      "execution_count": null,
      "outputs": []
    },
    {
      "cell_type": "code",
      "source": [
        "rf = Roboflow(api_key=\"vGDpIkF4iGyWy3mjWQmf\")\n",
        "project = rf.workspace(\"tfmtermica\").project(\"termica_png\")\n",
        "dataset = project.version(4).download(\"yolov5\")"
      ],
      "metadata": {
        "id": "oPd1wM0ZNF41"
      },
      "execution_count": null,
      "outputs": []
    },
    {
      "cell_type": "markdown",
      "source": [
        "Creación del modelo 0.835"
      ],
      "metadata": {
        "id": "bcYYnil3HM1a"
      }
    },
    {
      "cell_type": "code",
      "source": [
        "!python train.py --img 736 --batch 12 --epochs 250 --data coco128.yaml --weights yolov5s.pt --cache"
      ],
      "metadata": {
        "id": "XsTQhpssHhUi"
      },
      "execution_count": null,
      "outputs": []
    },
    {
      "cell_type": "markdown",
      "source": [
        "Descarga del modelo, que se guardará como \"best.pt\""
      ],
      "metadata": {
        "id": "QzfCxzJfIKIt"
      }
    },
    {
      "cell_type": "code",
      "source": [
        "from google.colab import files\n",
        "files.download('./runs/train/exp/weights/best.pt')"
      ],
      "metadata": {
        "id": "yR2JTrvxIHkd"
      },
      "execution_count": null,
      "outputs": []
    }
  ]
}