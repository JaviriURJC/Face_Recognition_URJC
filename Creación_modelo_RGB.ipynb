{
  "nbformat": 4,
  "nbformat_minor": 0,
  "metadata": {
    "colab": {
      "provenance": [],
      "authorship_tag": "ABX9TyM6xA9VvEjEt0aX6A/xA8Wc",
      "include_colab_link": true
    },
    "kernelspec": {
      "name": "python3",
      "display_name": "Python 3"
    },
    "language_info": {
      "name": "python"
    }
  },
  "cells": [
    {
      "cell_type": "markdown",
      "metadata": {
        "id": "view-in-github",
        "colab_type": "text"
      },
      "source": [
        "<a href=\"https://colab.research.google.com/github/JaviriURJC/Face_Recognition_URJC/blob/main/Creaci%C3%B3n_modelo_RGB.ipynb\" target=\"_parent\"><img src=\"https://colab.research.google.com/assets/colab-badge.svg\" alt=\"Open In Colab\"/></a>"
      ]
    },
    {
      "cell_type": "markdown",
      "source": [
        "ENTORNO DE EJECUCIÓN EN GPU"
      ],
      "metadata": {
        "id": "MtTCUgOFIcom"
      }
    },
    {
      "cell_type": "code",
      "execution_count": 1,
      "metadata": {
        "colab": {
          "base_uri": "https://localhost:8080/"
        },
        "id": "i79Doya_GwK2",
        "outputId": "853476bc-7e80-474c-d16e-6b0812840f40"
      },
      "outputs": [
        {
          "output_type": "stream",
          "name": "stdout",
          "text": [
            "Setup Completo. Usando torch 1.13.0+cu116 (CPU)\n"
          ]
        }
      ],
      "source": [
        "#clonar YOLOv5 \n",
        "!git clone https://github.com/ultralytics/yolov5 #clonar repo\n",
        "%cd yolov5\n",
        "%pip install -qr requirements.txt #instalar dependencias\n",
        "\n",
        "import torch\n",
        "from IPython.display import Image, clear_output #para eneseñar imagenes\n",
        "\n",
        "clear_output()\n",
        "print(f\"Setup Completo. Usando torch {torch.__version__} ({torch.cuda.get_device_properties(0).name if torch.cuda.is_available() else 'CPU'})\")"
      ]
    },
    {
      "cell_type": "markdown",
      "source": [
        "Cargar Dataset"
      ],
      "metadata": {
        "id": "xWtqGInZG6tn"
      }
    },
    {
      "cell_type": "code",
      "source": [
        "!unzip -q ../train_data.zip -d ../"
      ],
      "metadata": {
        "id": "lJ2Sh-liG8x2"
      },
      "execution_count": null,
      "outputs": []
    },
    {
      "cell_type": "markdown",
      "source": [
        "Carga coco128.yalm editado sobre el original en Yolov5/data"
      ],
      "metadata": {
        "id": "Da5jeb6yG-wA"
      }
    },
    {
      "cell_type": "markdown",
      "source": [
        "Creación del modelo 0.972"
      ],
      "metadata": {
        "id": "bcYYnil3HM1a"
      }
    },
    {
      "cell_type": "code",
      "source": [
        "!python train.py --img 1376 --batch 12 --epochs 75 --data coco128.yaml --weights yolov5s.pt --cache"
      ],
      "metadata": {
        "id": "XsTQhpssHhUi"
      },
      "execution_count": null,
      "outputs": []
    },
    {
      "cell_type": "markdown",
      "source": [
        "Descarga del modelo, que se guardará como \"best.pt\""
      ],
      "metadata": {
        "id": "QzfCxzJfIKIt"
      }
    },
    {
      "cell_type": "code",
      "source": [
        "from google.colab import files\n",
        "files.download('/content/yolov5')"
      ],
      "metadata": {
        "colab": {
          "base_uri": "https://localhost:8080/",
          "height": 34
        },
        "id": "yR2JTrvxIHkd",
        "outputId": "7bab7211-4722-4243-8f4c-d8e316b0eb16"
      },
      "execution_count": 2,
      "outputs": [
        {
          "output_type": "display_data",
          "data": {
            "text/plain": [
              "<IPython.core.display.Javascript object>"
            ],
            "application/javascript": [
              "\n",
              "    async function download(id, filename, size) {\n",
              "      if (!google.colab.kernel.accessAllowed) {\n",
              "        return;\n",
              "      }\n",
              "      const div = document.createElement('div');\n",
              "      const label = document.createElement('label');\n",
              "      label.textContent = `Downloading \"${filename}\": `;\n",
              "      div.appendChild(label);\n",
              "      const progress = document.createElement('progress');\n",
              "      progress.max = size;\n",
              "      div.appendChild(progress);\n",
              "      document.body.appendChild(div);\n",
              "\n",
              "      const buffers = [];\n",
              "      let downloaded = 0;\n",
              "\n",
              "      const channel = await google.colab.kernel.comms.open(id);\n",
              "      // Send a message to notify the kernel that we're ready.\n",
              "      channel.send({})\n",
              "\n",
              "      for await (const message of channel.messages) {\n",
              "        // Send a message to notify the kernel that we're ready.\n",
              "        channel.send({})\n",
              "        if (message.buffers) {\n",
              "          for (const buffer of message.buffers) {\n",
              "            buffers.push(buffer);\n",
              "            downloaded += buffer.byteLength;\n",
              "            progress.value = downloaded;\n",
              "          }\n",
              "        }\n",
              "      }\n",
              "      const blob = new Blob(buffers, {type: 'application/binary'});\n",
              "      const a = document.createElement('a');\n",
              "      a.href = window.URL.createObjectURL(blob);\n",
              "      a.download = filename;\n",
              "      div.appendChild(a);\n",
              "      a.click();\n",
              "      div.remove();\n",
              "    }\n",
              "  "
            ]
          },
          "metadata": {}
        },
        {
          "output_type": "display_data",
          "data": {
            "text/plain": [
              "<IPython.core.display.Javascript object>"
            ],
            "application/javascript": [
              "download(\"download_1c2b70e3-be51-4935-8b94-417cde3a80bc\", \"yolov5\", 4096)"
            ]
          },
          "metadata": {}
        }
      ]
    }
  ]
}